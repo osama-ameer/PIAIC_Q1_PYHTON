{
 "cells": [
  {
   "cell_type": "code",
   "execution_count": 14,
   "metadata": {},
   "outputs": [
    {
     "name": "stdout",
     "output_type": "stream",
     "text": [
      "20\n",
      "11 40\n"
     ]
    }
   ],
   "source": [
    "def add(n1,n2):\n",
    "    frs=n1\n",
    "    snd=n2\n",
    "    total = frs + snd\n",
    "    #print(total)\n",
    "    return total\n",
    "    \n",
    "x=add(5,6)\n",
    "y=add(10,30)\n",
    "print(add(5,15))\n",
    "print(x,y)"
   ]
  },
  {
   "cell_type": "code",
   "execution_count": 7,
   "metadata": {},
   "outputs": [
    {
     "name": "stdout",
     "output_type": "stream",
     "text": [
      "enter24\n",
      "enter20\n",
      "4\n"
     ]
    }
   ],
   "source": [
    "def sub():\n",
    "    n1=int(input(\"enter\"))\n",
    "    n2=int(input(\"enter\"))\n",
    "    total=n1-n2\n",
    "    print(total)\n",
    "    \n",
    "sub()"
   ]
  },
  {
   "cell_type": "code",
   "execution_count": 20,
   "metadata": {},
   "outputs": [
    {
     "name": "stdout",
     "output_type": "stream",
     "text": [
      "ENTER N1== 21\n",
      "ENTER N2== 12\n",
      "252\n"
     ]
    }
   ],
   "source": [
    "def mul():\n",
    "    n1=int(input(\"ENTER N1== \"))\n",
    "    n2=int(input(\"ENTER N2== \"))\n",
    "    tota= n1*n2\n",
    "    print(tota)\n",
    "           \n",
    "mul()"
   ]
  },
  {
   "cell_type": "code",
   "execution_count": 19,
   "metadata": {},
   "outputs": [
    {
     "name": "stdout",
     "output_type": "stream",
     "text": [
      "15\n",
      "5\n"
     ]
    }
   ],
   "source": [
    "def add(n1,n2):\n",
    "    frs=n1\n",
    "    snd=n2\n",
    "    total1 = frs + snd\n",
    "    total2= frs - snd\n",
    "    return (total1)\n",
    "    return(total2)\n",
    "    \n",
    "x=total1\n",
    "y=total2\n",
    "add(10,5)\n",
    "print(x,y)\n",
    "    "
   ]
  },
  {
   "cell_type": "code",
   "execution_count": 29,
   "metadata": {},
   "outputs": [
    {
     "name": "stdout",
     "output_type": "stream",
     "text": [
      "200\n",
      "460\n",
      "4\n",
      "30\n",
      "40\n",
      "0\n",
      "9\n"
     ]
    }
   ],
   "source": [
    "def cal(sale=10, tax=20):\n",
    "    print(sale*tax)\n",
    "    \n",
    "def cal2(sale=2,tax=3):\n",
    "    return(sale*tax)\n",
    "\n",
    "#positional parameter passing    \n",
    "cal()\n",
    "cal(23)\n",
    "cal(2,2)\n",
    "cal(tax=3)\n",
    "cal(sale=2)\n",
    "rate=0\n",
    "cal(tax=rate)\n",
    "x=cal2(3,3)\n",
    "print(x)\n",
    "#named parameter passing\n"
   ]
  },
  {
   "cell_type": "code",
   "execution_count": 37,
   "metadata": {},
   "outputs": [
    {
     "name": "stdout",
     "output_type": "stream",
     "text": [
      "The winner is Real Madrid\n",
      "The score is 1-0\n",
      "overtime: yes\n",
      "injuries: none\n",
      "__________\n",
      "The winner is Real Madrid\n",
      "The score is 2-0\n",
      "overtime: yes\n",
      "replace: ramos\n",
      "injuries: Ramos\n",
      "goals: Ronaldo\n",
      "__________\n",
      "3\n",
      "3\n",
      "(5, 5, 5, 5)\n"
     ]
    }
   ],
   "source": [
    " def display_result(winner, score, **other_info):\n",
    "        print(\"The winner is \"+winner)\n",
    "        print(\"The score is \"+score)\n",
    "        for key,value in other_info.items():\n",
    "            print(key+\": \"+value)\n",
    "        \n",
    "        print(\"__________\")\n",
    "        \n",
    "def tuple(num1, num2, *numbers):\n",
    "    print(num1)\n",
    "    print(num2)\n",
    "    print(numbers)\n",
    "        \n",
    "display_result(winner=\"Real Madrid\", score=\"1-0\", overtime=\"yes\", injuries=\"none\")\n",
    "display_result(winner=\"Real Madrid\", score=\"2-0\", overtime=\"yes\",replace=\"ramos\",injuries=\"Ramos\", goals=\"Ronaldo\")\n",
    "tuple(3,3,5,5,5,5)"
   ]
  },
  {
   "cell_type": "code",
   "execution_count": 42,
   "metadata": {},
   "outputs": [
    {
     "name": "stdout",
     "output_type": "stream",
     "text": [
      "10\n",
      "2\n"
     ]
    }
   ],
   "source": [
    "def display():\n",
    "    #local value:\n",
    "    a=10\n",
    "    print(a)\n",
    "#Global VAlue:    \n",
    "a=2\n",
    "display()\n",
    "print(a)"
   ]
  },
  {
   "cell_type": "code",
   "execution_count": null,
   "metadata": {},
   "outputs": [],
   "source": [
    "\n",
    "            "
   ]
  },
  {
   "cell_type": "code",
   "execution_count": 6,
   "metadata": {},
   "outputs": [
    {
     "name": "stdout",
     "output_type": "stream",
     "text": [
      "I will not diagnose this patient\n",
      "Anand\n",
      "Kohi\n"
     ]
    }
   ],
   "source": [
    "class Patient():\n",
    "    def __init__(self,any_name,l_name):\n",
    "        self.any_name=any_name\n",
    "        self.l_name=l_name\n",
    "    def setage(self,age):\n",
    "        if(age>12 and age<70):\n",
    "            self.age=age\n",
    "        else:\n",
    "            print(\"I will not diagnose this patient\")\n",
    "        \n",
    "pid01=Patient(\"Anand\",\"Bhai\")\n",
    "pid02=Patient(\"Virat\",\"Kohi\")\n",
    "pid03=Patient(\"Hasan\",\"Ali\")\n",
    "pid01.setage(70)\n",
    "    \n",
    "print(pid01.any_name)\n",
    "print(pid02.l_name)"
   ]
  },
  {
   "cell_type": "code",
   "execution_count": 8,
   "metadata": {},
   "outputs": [
    {
     "name": "stdout",
     "output_type": "stream",
     "text": [
      "Hello World! \n",
      "My name is Osama\n"
     ]
    }
   ],
   "source": [
    "#23-6-2019\n",
    "with open(\"newfile.txt\",\"w\") as f:\n",
    "    f.write(\"Hello World! \\n\")\n",
    "    f.write(\"My name is Osama\")\n",
    "    \n",
    "with open(\"newfile.txt\",\"r\") as f:\n",
    "    text_of_file=f.read()\n",
    "    print(text_of_file)\n",
    "    "
   ]
  },
  {
   "cell_type": "code",
   "execution_count": 20,
   "metadata": {},
   "outputs": [
    {
     "ename": "SyntaxError",
     "evalue": "invalid syntax (<ipython-input-20-9da91883f00b>, line 9)",
     "output_type": "error",
     "traceback": [
      "\u001b[1;36m  File \u001b[1;32m\"<ipython-input-20-9da91883f00b>\"\u001b[1;36m, line \u001b[1;32m9\u001b[0m\n\u001b[1;33m    if(each_line[2]==\"not\":\u001b[0m\n\u001b[1;37m                          ^\u001b[0m\n\u001b[1;31mSyntaxError\u001b[0m\u001b[1;31m:\u001b[0m invalid syntax\n"
     ]
    }
   ],
   "source": [
    "import csv\n",
    "with open(\"Book1.csv\") as f:\n",
    "    contents_of_file=csv.reader(f)\n",
    "    print(type(contents_of_file))\n",
    "    submitted_names=[]\n",
    "    not_submitted_names=[]\n",
    "    for each_line in contents_of_file:\n",
    "        #rint(each_line)\n",
    "        if(each_line[2]==\"not\":\n",
    "           not_subitted_names.append(each_line[0])\n",
    "        else:\n",
    "           subitted_names.append(each_line[0])\n",
    "    \n",
    "    print(\"submitted\",submitted_names)\n",
    "    print(\"Not Submitted\",not_submitted_names)"
   ]
  },
  {
   "cell_type": "code",
   "execution_count": null,
   "metadata": {},
   "outputs": [],
   "source": []
  }
 ],
 "metadata": {
  "kernelspec": {
   "display_name": "Python 3",
   "language": "python",
   "name": "python3"
  },
  "language_info": {
   "codemirror_mode": {
    "name": "ipython",
    "version": 3
   },
   "file_extension": ".py",
   "mimetype": "text/x-python",
   "name": "python",
   "nbconvert_exporter": "python",
   "pygments_lexer": "ipython3",
   "version": "3.7.3"
  }
 },
 "nbformat": 4,
 "nbformat_minor": 2
}
