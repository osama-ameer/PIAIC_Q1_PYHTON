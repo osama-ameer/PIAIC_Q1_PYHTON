{
 "cells": [
  {
   "cell_type": "code",
   "execution_count": 15,
   "metadata": {},
   "outputs": [
    {
     "name": "stdout",
     "output_type": "stream",
     "text": [
      "Enter your Name: osama\n",
      "Enter your age: 65\n",
      "Enter your height: 6\n",
      "Continue?: Y\n",
      "Enter your Name: ebad\n",
      "Enter your age: 54\n",
      "Enter your height: 7\n",
      "Continue?: n\n",
      "[('ebad', '54', '7'), ('osama', '65', '6')]\n"
     ]
    }
   ],
   "source": [
    "students=[]\n",
    "while True:\n",
    "    name=input(\"Enter your Name: \")\n",
    "    age=input(\"Enter your age: \")\n",
    "    height=input(\"Enter your height: \")\n",
    "    students.append((name,age,height))\n",
    "    cont=input(\"Continue?: \")\n",
    "    if(cont!=\"Y\"):\n",
    "        break;\n",
    "print(sorted(students,key=lambda abc:(abc[0],abc[1])))\n"
   ]
  },
  {
   "cell_type": "code",
   "execution_count": 19,
   "metadata": {},
   "outputs": [
    {
     "name": "stdout",
     "output_type": "stream",
     "text": [
      "enter nuumber: 5\n",
      "{1: 1, 2: 4, 3: 9, 4: 16, 5: 25}\n"
     ]
    }
   ],
   "source": [
    "val= int(input(\"enter nuumber: \"))+1\n",
    "dict={}\n",
    "for x in range(1,val):\n",
    "    dict[x]=x**2\n",
    "print(dict)\n"
   ]
  },
  {
   "cell_type": "code",
   "execution_count": 6,
   "metadata": {},
   "outputs": [
    {
     "name": "stdout",
     "output_type": "stream",
     "text": [
      "1 : 3\n",
      "2 : 1\n",
      "3 : 4\n",
      "4 : 2\n",
      "5 : 3\n",
      "6 : 5\n",
      " : 1\n",
      "7 : 4\n",
      "8 : 5\n",
      "9 : 6\n"
     ]
    }
   ],
   "source": [
    "values=\"1,1,1,2,3,3,3,3,4,4,5,5,5,6,6,,6,6,6,7,7,7,7,8,8,8,8,8,9,9,9,9,9,9\"\n",
    "vlist=values.split(\",\")\n",
    "dict={}\n",
    "for v in vlist:\n",
    "    v=v.strip()\n",
    "    #print(i,v)\n",
    "    if v in dict:\n",
    "        dict[v]+=1\n",
    "    else:\n",
    "        dict[v]=1\n",
    "        \n",
    "for key,value in dict.items():\n",
    "    print(key,\":\", value)"
   ]
  },
  {
   "cell_type": "code",
   "execution_count": null,
   "metadata": {},
   "outputs": [],
   "source": []
  }
 ],
 "metadata": {
  "kernelspec": {
   "display_name": "Python 3",
   "language": "python",
   "name": "python3"
  },
  "language_info": {
   "codemirror_mode": {
    "name": "ipython",
    "version": 3
   },
   "file_extension": ".py",
   "mimetype": "text/x-python",
   "name": "python",
   "nbconvert_exporter": "python",
   "pygments_lexer": "ipython3",
   "version": "3.7.3"
  }
 },
 "nbformat": 4,
 "nbformat_minor": 2
}
