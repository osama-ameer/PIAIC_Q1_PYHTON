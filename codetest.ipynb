{
 "cells": [
  {
   "cell_type": "code",
   "execution_count": 14,
   "metadata": {},
   "outputs": [
    {
     "name": "stdout",
     "output_type": "stream",
     "text": [
      "Enter a year: 2020\n",
      "It is a leap year\n"
     ]
    }
   ],
   "source": [
    "year = int(input(\"Enter a year: \"))  \n",
    "if (year % 4) == 0:  \n",
    "   if (year % 100) == 0:  \n",
    "       if (year % 400) == 0:  \n",
    "           print(\"It is a leap year\")  \n",
    "       else:  \n",
    "           print(\"It is not a leap year\")  \n",
    "   else:  \n",
    "       print(\"It is a leap year\")  \n",
    "else:  \n",
    "   print(\"It is not a leap year\")  \n"
   ]
  },
  {
   "cell_type": "code",
   "execution_count": 13,
   "metadata": {},
   "outputs": [
    {
     "name": "stdout",
     "output_type": "stream",
     "text": [
      "Enter numbers of chickens: 1\n",
      "Enter numbers of cows: 1\n",
      "Enter numbers of pigs: 1\n",
      "Total number of legs of animals in your farm:  10\n"
     ]
    }
   ],
   "source": [
    "def animals(chic,cow,pig):\n",
    "    res=chic*2+cow*4+pig*4\n",
    "    print(\"Total number of legs of animals in your farm: \",res)\n",
    "\n",
    "chic=int(input(\"Enter numbers of chickens: \"))\n",
    "cow=int(input(\"Enter numbers of cows: \"))\n",
    "pig=int(input(\"Enter numbers of pigs: \"))\n",
    "\n",
    "animals(chic,cow,pig)\n"
   ]
  },
  {
   "cell_type": "code",
   "execution_count": 19,
   "metadata": {},
   "outputs": [],
   "source": [
    "import csv\n",
    "with open(\"Book1.csv\",'w',newline=\"\") as f:\n",
    "    data_handler=csv.writer(f)\n",
    "    data_handler=csv.writer(f,delimit)\n",
    "   \n",
    "    data_handler.writerow([\"Year\",\"Event\",\"Winner\"])\n",
    "    data_handler.writerow([\"1992\",\"CWC\",\"Pakistan\"])\n",
    "    data_handler.writerow([\"2017\",\"CT\",\"Pakistan\"])\n",
    "    data_handler.writerow([\"2007\",\"T20\",\"Pakistan\"])\n",
    "    "
   ]
  },
  {
   "cell_type": "code",
   "execution_count": 23,
   "metadata": {},
   "outputs": [],
   "source": [
    "import json\n",
    "with open(\"json_file.json\",\"w\") as f:\n",
    "    \n",
    "    customer1={\n",
    "        \"first_name\":\"Bhalu\",\n",
    "        \"last_name\":\"Mota\",\n",
    "        \"address\": \"Jangal\"\n",
    "    }\n",
    "    customer2={\n",
    "        \"first_name\":\"Sameer\",\n",
    "        \"lsat_name\":\"Dangar\",\n",
    "        \"address\":\"Nagan_chorangi_k_pull_k_neechy\"\n",
    "        \n",
    "        \n",
    "    }\n",
    "    \n",
    "    json.dump(customer1,f)\n",
    "    json.dump(customer1,f)"
   ]
  },
  {
   "cell_type": "code",
   "execution_count": 24,
   "metadata": {},
   "outputs": [],
   "source": [
    "fiction={\n",
    "    \"comedy\":\"a\"\n",
    "    \"comic\":\"b\n",
    "}\n",
    "non_fiction={\n",
    "    \"History\":\"F\"\n",
    "    \"Arts\":\"G\"\n",
    "}\n",
    "\n",
    "choice=\"\"\n",
    "while choice!=q:\n",
    "    \n",
    "    \n"
   ]
  }
 ],
 "metadata": {
  "kernelspec": {
   "display_name": "Python 3",
   "language": "python",
   "name": "python3"
  },
  "language_info": {
   "codemirror_mode": {
    "name": "ipython",
    "version": 3
   },
   "file_extension": ".py",
   "mimetype": "text/x-python",
   "name": "python",
   "nbconvert_exporter": "python",
   "pygments_lexer": "ipython3",
   "version": "3.7.3"
  }
 },
 "nbformat": 4,
 "nbformat_minor": 2
}
