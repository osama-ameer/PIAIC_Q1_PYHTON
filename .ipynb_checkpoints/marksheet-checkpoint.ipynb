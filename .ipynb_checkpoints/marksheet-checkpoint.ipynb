{
 "cells": [
  {
   "cell_type": "code",
   "execution_count": null,
   "metadata": {},
   "outputs": [],
   "source": [
    "\n",
    "    "
   ]
  },
  {
   "cell_type": "code",
   "execution_count": 38,
   "metadata": {},
   "outputs": [
    {
     "name": "stdout",
     "output_type": "stream",
     "text": [
      "Grade A+\n",
      "----FILING----  \n",
      " Name: Osama Bin Ameer\n",
      " Father's name: Ameer Ahmed\n",
      " You obtainted 472 marks.\n",
      " Your percentage is 94.4%\n"
     ]
    }
   ],
   "source": [
    "marksheet = {\"name\":\"Osama Bin Ameer\", \"father name\": \"Ameer Ahmed\", \"Eng\": \"87\", \"Phy\": \"95\", \"maths\": \"100\", \"chem\": \"100\", \"prg\": \"90\"} \n",
    "total=int(marksheet[\"Eng\"])+int(marksheet[\"Phy\"])+int(marksheet[\"maths\"])+int(marksheet[\"chem\"])+int(marksheet[\"prg\"])\n",
    "per=total*100/500\n",
    "\n",
    "if(per<=100 and per>=80):\n",
    "     print(\"Grade A+\")\n",
    "elif(per<80 and per>=70):\n",
    "     print(\"Grade A\")\n",
    "elif(per<70 and per>=60):\n",
    "     print(\"Grade B\")\n",
    "elif(per<60 and per>=50):\n",
    "     print(\"Grade C\") \n",
    "elif(per<50 and per>=60):\n",
    "         print(\"Grade D\")\n",
    "else:\n",
    "     print(\"Failed\")\n",
    "    \n",
    "with open(\"marksheet.txt\",\"w\") as f:\n",
    "    f.write(\"----FILING----  \\n\")\n",
    "    f.write(\" Name: \"+marksheet[\"name\"])\n",
    "    f.write(\"\\n Father's name: \"+marksheet[\"father name\"])\n",
    "    f.write(\"\\n You obtainted \"+str(total)+\" marks.\")\n",
    "    f.write(\"\\n Your percentage is \"+str(per)+\"%\")\n",
    "    \n",
    "    \n",
    "    \n",
    "with open(\"marksheet.txt\",\"r\") as f:\n",
    "    text_of_file=f.read()\n",
    "    print(text_of_file)"
   ]
  },
  {
   "cell_type": "code",
   "execution_count": null,
   "metadata": {},
   "outputs": [],
   "source": []
  },
  {
   "cell_type": "code",
   "execution_count": null,
   "metadata": {},
   "outputs": [],
   "source": []
  }
 ],
 "metadata": {
  "kernelspec": {
   "display_name": "Python 3",
   "language": "python",
   "name": "python3"
  },
  "language_info": {
   "codemirror_mode": {
    "name": "ipython",
    "version": 3
   },
   "file_extension": ".py",
   "mimetype": "text/x-python",
   "name": "python",
   "nbconvert_exporter": "python",
   "pygments_lexer": "ipython3",
   "version": "3.7.3"
  }
 },
 "nbformat": 4,
 "nbformat_minor": 2
}
