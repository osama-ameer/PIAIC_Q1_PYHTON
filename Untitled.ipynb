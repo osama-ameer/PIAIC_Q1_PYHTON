{
 "cells": [
  {
   "cell_type": "code",
   "execution_count": 3,
   "metadata": {},
   "outputs": [
    {
     "name": "stdout",
     "output_type": "stream",
     "text": [
      "Beta\n",
      "Enter Your name: osama\n",
      "Your name is  osama\n"
     ]
    }
   ],
   "source": [
    "name=\"Pilot\"\n",
    "name=\"Beta\"\n",
    "print(name)\n",
    "str=input(\"Enter Your name: \")\n",
    "print(\"Your name is \",str)\n"
   ]
  },
  {
   "cell_type": "code",
   "execution_count": 4,
   "metadata": {},
   "outputs": [
    {
     "name": "stdout",
     "output_type": "stream",
     "text": [
      "Enter the name of a city: Tucson\n",
      "It's one of the cleanest cities\n"
     ]
    }
   ],
   "source": [
    "cleanest_cities=[\"Cheyenne\", \"Santa Fe\", \"Tucson\", \"Great Falls\", \"Honolulu\"]\n",
    "\n",
    "\n",
    "user_input=\"\"\n",
    "while user_input!=\"q\":\n",
    "    user_input=input(\"Enter a city or q to quit\")\n",
    "    \n",
    "for a_clean_city in cleanest_cities: \n",
    "    if user_input == a_clean_city: \n",
    "        print(\"It's one of the cleanest cities\") \n",
    "        break\n",
    "    \n",
    "        \n"
   ]
  },
  {
   "cell_type": "code",
   "execution_count": 3,
   "metadata": {},
   "outputs": [
    {
     "name": "stdout",
     "output_type": "stream",
     "text": [
      "Enter a city, or q to quit:Tucson\n",
      "It's one of the cleanest cities\n",
      "Enter a city, or q to quit:q\n"
     ]
    }
   ],
   "source": [
    "cleanest_cities=[\"Cheyenne\", \"Santa Fe\", \"Tucson\", \"Great Falls\", \"Honolulu\"]\n",
    "user_input = \"\" \n",
    "while user_input != \"q\": \n",
    "    user_input = input(\"Enter a city, or q to quit:\") \n",
    "    if user_input != \"q\":\n",
    "        for a_clean_city in cleanest_cities: \n",
    "            if user_input == a_clean_city: \n",
    "                print(\"It's one of the cleanest cities\") \n",
    "                break\n"
   ]
  },
  {
   "cell_type": "code",
   "execution_count": null,
   "metadata": {},
   "outputs": [],
   "source": []
  }
 ],
 "metadata": {
  "kernelspec": {
   "display_name": "Python 3",
   "language": "python",
   "name": "python3"
  },
  "language_info": {
   "codemirror_mode": {
    "name": "ipython",
    "version": 3
   },
   "file_extension": ".py",
   "mimetype": "text/x-python",
   "name": "python",
   "nbconvert_exporter": "python",
   "pygments_lexer": "ipython3",
   "version": "3.7.3"
  }
 },
 "nbformat": 4,
 "nbformat_minor": 2
}
