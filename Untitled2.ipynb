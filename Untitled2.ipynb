{
 "cells": [
  {
   "cell_type": "code",
   "execution_count": 1,
   "metadata": {},
   "outputs": [
    {
     "name": "stdout",
     "output_type": "stream",
     "text": [
      "['English', 'Python', 'Java', 'PHP', 'Javascript']\n",
      "[100, 80, 50, 70, 80]\n"
     ]
    }
   ],
   "source": [
    "subjects=[\"English\",\"Python\",\"Java\",\"PHP\",\"Javascript\"]\n",
    "marks=[100,80,50,70,80]\n",
    "print(subjects)\n",
    "print(marks)"
   ]
  },
  {
   "cell_type": "code",
   "execution_count": 4,
   "metadata": {},
   "outputs": [
    {
     "name": "stdout",
     "output_type": "stream",
     "text": [
      "['Chicago', 'Denver', 'Los Angeles']\n"
     ]
    }
   ],
   "source": [
    "cities = [\"Atlanta\", \"Baltimore\", \"Chicago\", \"Denver\", \"Los Angeles\", \"Seattle\"] \n",
    "smaller_list_of_cities = cities[2:5]\n",
    "print(smaller_list_of_cities)\n"
   ]
  },
  {
   "cell_type": "code",
   "execution_count": 7,
   "metadata": {},
   "outputs": [
    {
     "data": {
      "text/plain": [
       "'Seattle'"
      ]
     },
     "execution_count": 7,
     "metadata": {},
     "output_type": "execute_result"
    }
   ],
   "source": [
    "cities.pop() "
   ]
  },
  {
   "cell_type": "code",
   "execution_count": 8,
   "metadata": {},
   "outputs": [
    {
     "name": "stdout",
     "output_type": "stream",
     "text": [
      "['Atlanta', 'Chicago', 'Denver', 'Los Angeles']\n"
     ]
    }
   ],
   "source": [
    "print(cities)"
   ]
  },
  {
   "cell_type": "code",
   "execution_count": 9,
   "metadata": {},
   "outputs": [],
   "source": [
    "cities.insert(0, \"New York\")"
   ]
  },
  {
   "cell_type": "code",
   "execution_count": 9,
   "metadata": {},
   "outputs": [
    {
     "name": "stdout",
     "output_type": "stream",
     "text": [
      "['Atlanta', 'Baltimore', 'Chicago', 'Denver', 'Los Angeles', 'Seattle']\n"
     ]
    }
   ],
   "source": [
    "print(cities)"
   ]
  },
  {
   "cell_type": "code",
   "execution_count": 10,
   "metadata": {},
   "outputs": [
    {
     "name": "stdout",
     "output_type": "stream",
     "text": [
      "city is  Atlanta False\n",
      "city is  Baltimore True\n",
      "city is  Chicago True\n",
      "city is  Denver True\n",
      "city is  Los Angeles False\n",
      "city is  Seattle False\n"
     ]
    }
   ],
   "source": [
    "cities = [\"Atlanta\", \"Baltimore\", \"Chicago\", \"Denver\", \"Los Angeles\", \"Seattle\"] \n",
    "for city in cities:\n",
    "    #print(\"name of city\",city)\n",
    "    print(\"city is \",city, city in (\"Baltimore\",\"Chicago\",\"Denver\"))\n",
    "\n",
    "    #print(\"city is Baltimote\", city == \"Baltimore\" or city==\"Chicago\" or city == \"Denver\")\n",
    "    "
   ]
  },
  {
   "cell_type": "code",
   "execution_count": 12,
   "metadata": {},
   "outputs": [
    {
     "name": "stdout",
     "output_type": "stream",
     "text": [
      "2 x 1 = 2\n",
      "2 x 2 = 4\n",
      "2 x 3 = 6\n",
      "2 x 4 = 8\n",
      "2 x 5 = 10\n",
      "2 x 6 = 12\n",
      "2 x 7 = 14\n",
      "2 x 8 = 16\n",
      "2 x 9 = 18\n",
      "2 x 10 = 20\n"
     ]
    }
   ],
   "source": [
    "num=2\n",
    "for i in range(1, 11):\n",
    "   print(num,'x',i,'=',num*i)"
   ]
  },
  {
   "cell_type": "code",
   "execution_count": 27,
   "metadata": {},
   "outputs": [
    {
     "name": "stdout",
     "output_type": "stream",
     "text": [
      "First child name Danyal  Arsi\n",
      "Last child name Ahmed Arsi\n",
      "First child name Danyal  Kamran\n",
      "Last child name Ahmed Kamran\n",
      "First child name Danyal  Ahmed\n",
      "Last child name Ahmed Ahmed\n",
      "First child name Danyal  Ali\n",
      "Last child name Ahmed Ali\n"
     ]
    }
   ],
   "source": [
    "father_names=[\"Arsi\",\"Kamran\",\"Ahmed\",\"Ali\"]\n",
    "children_names=[\"Danyal \",\"Sheikh\",\"Don\",\"Ahmed\"]\n",
    "full_names=[]\n",
    "index=0 \n",
    "last=3\n",
    "for father_name in father_names:\n",
    "    for children_name in children_names:\n",
    "        full_names.append(children_name+\" \"+father_name)\n",
    "     \n",
    "    print(\"First child name\",full_names[index])\n",
    "    print(\"Last child name\",full_names[last])\n",
    "    index += 4\n",
    "    last +=4\n",
    "    "
   ]
  },
  {
   "cell_type": "code",
   "execution_count": 35,
   "metadata": {},
   "outputs": [
    {
     "name": "stdout",
     "output_type": "stream",
     "text": [
      "USAMA\n",
      "usama\n",
      "AHMED\n",
      "ahmed\n",
      "DILAWAR\n",
      "dilawar\n"
     ]
    }
   ],
   "source": [
    "names=[\"Usama\",\"Ahmed\",\"Dilawar\"]\n",
    "for name in names:\n",
    "    print(name.upper())\n",
    "    print(name.lower())"
   ]
  },
  {
   "cell_type": "code",
   "execution_count": 36,
   "metadata": {},
   "outputs": [
    {
     "data": {
      "text/plain": [
       "'David'"
      ]
     },
     "execution_count": 36,
     "metadata": {},
     "output_type": "execute_result"
    }
   ],
   "source": [
    "#DICTIONARY\n",
    "customer_29876 = {\"first name\": \"David\", \"last name\": \"Elliott\", \"address\": \"4803 Wellesley St.\"} \n",
    "customer_29876[\"first name\"]"
   ]
  },
  {
   "cell_type": "code",
   "execution_count": 59,
   "metadata": {},
   "outputs": [
    {
     "name": "stdout",
     "output_type": "stream",
     "text": [
      "Chemistry : 87\n",
      "Physics : 78\n",
      "Maths : 100\n",
      "Urdu : 90\n",
      "English : 80\n",
      "Chemistry\n",
      "Physics\n",
      "Maths\n",
      "Urdu\n",
      "English\n",
      "87\n",
      "78\n",
      "100\n",
      "90\n",
      "80\n"
     ]
    }
   ],
   "source": [
    "marksheet={\"Chemistry\":87,\"Physics\":78,\"Maths\":100, \"Urdu\":90, \"English\":80 }\n",
    "marksheet[\"Chemistry\"]\n",
    "#for key,value in dictionary.items(): ''\n",
    "for subjects,marks in marksheet.items():\n",
    "    print(subjects, \":\",marks)\n",
    "    \n",
    "for key in marksheet.keys():\n",
    "    print(key)\n",
    "    \n",
    "for val in marksheet.values():\n",
    "    print(val)"
   ]
  },
  {
   "cell_type": "code",
   "execution_count": 56,
   "metadata": {},
   "outputs": [
    {
     "name": "stdout",
     "output_type": "stream",
     "text": [
      "{'Bilal': [87, 86, 65, 90], 'gullu': [87, 86, 65, 90], 'asad': [87, 86, 65, 90]}\n",
      "Bilal\n",
      "chemisrty 87\n",
      "Physics 86\n",
      "Maths 65\n",
      "Maths 90\n",
      "gullu\n",
      "chemisrty 87\n",
      "Physics 86\n",
      "Maths 65\n",
      "Maths 90\n",
      "asad\n",
      "chemisrty 87\n",
      "Physics 86\n",
      "Maths 65\n",
      "Maths 90\n"
     ]
    }
   ],
   "source": [
    "marksheet={\"Bilal\":[87,86,65,90],\"gullu\":[87,86,65,90],\"asad\":[87,86,65,90]}\n",
    "print(marksheet)\n",
    "for student,marks in marksheet.items():\n",
    "    print(student)\n",
    "    print(\"chemisrty\",marks[0])\n",
    "    print(\"Physics\",marks[1])\n",
    "    print(\"Maths\",marks[2])\n",
    "    print(\"Maths\",marks[3])\n",
    "    \n"
   ]
  },
  {
   "cell_type": "code",
   "execution_count": null,
   "metadata": {},
   "outputs": [],
   "source": []
  },
  {
   "cell_type": "code",
   "execution_count": null,
   "metadata": {},
   "outputs": [],
   "source": []
  }
 ],
 "metadata": {
  "kernelspec": {
   "display_name": "Python 3",
   "language": "python",
   "name": "python3"
  },
  "language_info": {
   "codemirror_mode": {
    "name": "ipython",
    "version": 3
   },
   "file_extension": ".py",
   "mimetype": "text/x-python",
   "name": "python",
   "nbconvert_exporter": "python",
   "pygments_lexer": "ipython3",
   "version": "3.7.3"
  }
 },
 "nbformat": 4,
 "nbformat_minor": 2
}
